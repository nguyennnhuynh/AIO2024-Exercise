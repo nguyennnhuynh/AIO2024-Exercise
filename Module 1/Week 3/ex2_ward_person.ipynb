{
 "cells": [
  {
   "cell_type": "markdown",
   "metadata": {},
   "source": [
    "(a) Cài đặt các class Student, Doctor, và Teacher theo mô tả trên. Thực hiện phương thức describe() method để in ra tất cả thông tin của các object."
   ]
  },
  {
   "cell_type": "code",
   "execution_count": 15,
   "metadata": {},
   "outputs": [],
   "source": [
    "# a. Cài đặt các class Student, Doctor, và Teacher theo mô tả trên.\n",
    "from abc import ABC, abstractmethod\n",
    "\n",
    "class Person(ABC):\n",
    "    def __init__(self, name: str, yob: int):\n",
    "        self._name = name\n",
    "        self._yob = yob\n",
    "\n",
    "    def getYoB(self):\n",
    "        return self._yob\n",
    "\n",
    "    @abstractmethod\n",
    "    def describe(self):\n",
    "        pass\n",
    "\n",
    "class Student(Person):\n",
    "    def __init__(self, name: str, yob: int, grade: str):\n",
    "        super().__init__(name = name, yob= yob)\n",
    "        self.__grade = grade\n",
    "\n",
    "    def describe(self):\n",
    "        return f\"Student - Name: {self._name} - YoB: {self._yob} - Grade: {self.__grade}\"\n",
    "\n",
    "class Teacher(Person):\n",
    "    def __init__(self, name: str, yob: int, subject: str):\n",
    "        super().__init__(name = name, yob= yob)\n",
    "        self.__subject = subject\n",
    "\n",
    "    def describe(self):\n",
    "        return f\"Teacher - Name: {self._name} - YoB: {self._yob} - Subject: {self.__subject}\"\n",
    "\n",
    "class Doctor(Person):\n",
    "    def __init__(self, name: str, yob: int, specialist: str):\n",
    "        super().__init__(name = name, yob= yob)\n",
    "        self.__specialist = specialist\n",
    "\n",
    "    def describe(self):\n",
    "        return f\"Doctor - Name: {self._name} - YoB: {self._yob} - Specialist: {self.__specialist}\""
   ]
  },
  {
   "cell_type": "code",
   "execution_count": 16,
   "metadata": {},
   "outputs": [
    {
     "name": "stdout",
     "output_type": "stream",
     "text": [
      "Student - Name: studentA - YoB: 2010 - Grade: 7\n",
      "Teacher - Name: teacherA - YoB: 1969 - Subject: Math\n",
      "Doctor - Name: doctorA - YoB: 1945 - Specialist: Endocrinologists\n"
     ]
    }
   ],
   "source": [
    "student1 = Student(name=\"studentA\", yob=2010, grade=\"7\")\n",
    "teacher1 = Teacher(name=\"teacherA\", yob=1969, subject=\"Math\")\n",
    "doctor1 = Doctor(name=\"doctorA\", yob=1945, specialist=\"Endocrinologists\")\n",
    "\n",
    "print(student1.describe())\n",
    "print(teacher1.describe())\n",
    "print(doctor1.describe())"
   ]
  },
  {
   "cell_type": "markdown",
   "metadata": {},
   "source": [
    "(b) Viết add_person(person) method trong Ward class để add thêm một người mới với nghề nghiệp bất kỳ (student, teacher, doctor) vào danh sách người của ward. Tạo ra một ward object, và thêm vào 1 student, 2 teacher, và 2 doctor. Thực hiện describe() method để in ra tên ward (name) và toàn bộ thông tin của từng người trong ward."
   ]
  },
  {
   "cell_type": "code",
   "execution_count": 17,
   "metadata": {},
   "outputs": [],
   "source": [
    "# b. Viết add_person(person) method trong Ward class để add thêm một người mới\n",
    "class Ward:\n",
    "    def __init__(self, name: str):\n",
    "        self.__name = name\n",
    "        self.__listPeople = list()\n",
    "\n",
    "    def addPerson(self, person: Person):\n",
    "        self.__listPeople.append(person)\n",
    "\n",
    "    def describe(self):\n",
    "        print(f\"Ward Name: {self.__name}\")\n",
    "        for p in self.__listPeople:\n",
    "            print(p.describe())"
   ]
  },
  {
   "cell_type": "code",
   "execution_count": 19,
   "metadata": {},
   "outputs": [
    {
     "name": "stdout",
     "output_type": "stream",
     "text": [
      "Ward Name: Ward1\n",
      "Student - Name: studentA - YoB: 2010 - Grade: 7\n",
      "Teacher - Name: teacherA - YoB: 1969 - Subject: Math\n",
      "Doctor - Name: doctorA - YoB: 1945 - Specialist: Endocrinologists\n",
      "Teacher - Name: teacherB - YoB: 1995 - Subject: History\n",
      "Doctor - Name: doctorB - YoB: 1975 - Specialist: Cardiologists\n"
     ]
    }
   ],
   "source": [
    "# Tạo các đối tượng Student, Teacher và Doctor\n",
    "teacher2 = Teacher(name=\"teacherB\", yob=1995, subject=\"History\")\n",
    "doctor2 = Doctor(name=\"doctorB\", yob=1975, specialist=\"Cardiologists\")\n",
    "\n",
    "# Tạo đối tượng Ward và thêm người vào\n",
    "ward1 = Ward(name=\"Ward1\")\n",
    "ward1.addPerson(student1)\n",
    "ward1.addPerson(teacher1)\n",
    "ward1.addPerson(doctor1)\n",
    "ward1.addPerson(teacher2)\n",
    "ward1.addPerson(doctor2)\n",
    "\n",
    "# Sử dụng phương thức describe() để in thông tin về Ward và các người trong Ward\n",
    "ward1.describe()"
   ]
  },
  {
   "cell_type": "markdown",
   "metadata": {},
   "source": [
    "(c) Viết count_doctor() method để đếm số lượng doctor trong ward."
   ]
  },
  {
   "cell_type": "code",
   "execution_count": 20,
   "metadata": {},
   "outputs": [],
   "source": [
    "# c. Viết count_doctor() method để đếm số lượng doctor trong ward\n",
    "class Ward:\n",
    "    def __init__(self, name: str):\n",
    "        self.__name = name\n",
    "        self.__listPeople = list()\n",
    "\n",
    "    def addPerson(self, person: Person):\n",
    "        self.__listPeople.append(person)\n",
    "\n",
    "    def describe(self):\n",
    "        print(f\"Ward Name: {self.__name}\")\n",
    "        for p in self.__listPeople:\n",
    "            p.describe()\n",
    "\n",
    "    def countDoctor(self):\n",
    "        counter = 0\n",
    "        for p in self.__listPeople:\n",
    "            if isinstance(p, Doctor):\n",
    "                counter += 1\n",
    "        return counter"
   ]
  },
  {
   "cell_type": "code",
   "execution_count": 24,
   "metadata": {},
   "outputs": [
    {
     "name": "stdout",
     "output_type": "stream",
     "text": [
      "Number of doctors: 1\n"
     ]
    }
   ],
   "source": [
    "ward1 = Ward(name=\"Ward1\")\n",
    "ward1.addPerson(student1)\n",
    "ward1.addPerson(teacher1)\n",
    "ward1.addPerson(Doctor(name=\"doctorB\", yob=1975, specialist=\"Cardiologists\"))\n",
    "\n",
    "print(f\"Number of doctors: {ward1.countDoctor()}\")"
   ]
  },
  {
   "cell_type": "markdown",
   "metadata": {},
   "source": [
    "(d) Viết sort_age() method để sort mọi người trong ward theo tuổi của họ với thứ tự tăng dần. (hint: Có thể sử dụng sort của list hoặc viết thêm function đều được)"
   ]
  },
  {
   "cell_type": "code",
   "execution_count": 25,
   "metadata": {},
   "outputs": [],
   "source": [
    "class Ward:\n",
    "    def __init__(self, name: str):\n",
    "        self._name = name\n",
    "        self._listPeople = list()\n",
    "\n",
    "    def addPerson(self, person: Person):\n",
    "        self._listPeople.append(person)\n",
    "\n",
    "    def describe(self):\n",
    "        print(f\"Ward Name: {self._name}\")\n",
    "        for p in self._listPeople:\n",
    "            print(p.describe())\n",
    "\n",
    "    def countDoctor(self):\n",
    "        return sum(isinstance(person, Doctor) for person in self._listPeople)\n",
    "\n",
    "    def sortAge(self):\n",
    "        self._listPeople.sort(key=lambda person: person.getYoB(), reverse=True)"
   ]
  },
  {
   "cell_type": "code",
   "execution_count": 26,
   "metadata": {},
   "outputs": [
    {
     "name": "stdout",
     "output_type": "stream",
     "text": [
      "After sorting by age:\n",
      "Ward Name: Ward1\n",
      "Student - Name: studentA - YoB: 2010 - Grade: 7\n",
      "Doctor - Name: doctorB - YoB: 1975 - Specialist: Cardiologists\n",
      "Teacher - Name: teacherA - YoB: 1969 - Subject: Math\n"
     ]
    }
   ],
   "source": [
    "# Tạo đối tượng Ward và thêm người vào\n",
    "ward1 = Ward(name=\"Ward1\")\n",
    "ward1.addPerson(student1)\n",
    "ward1.addPerson(teacher1)\n",
    "ward1.addPerson(Doctor(name=\"doctorB\", yob=1975, specialist=\"Cardiologists\"))\n",
    "\n",
    "ward1.sortAge()\n",
    "print(\"After sorting by age:\")\n",
    "ward1.describe()"
   ]
  },
  {
   "cell_type": "markdown",
   "metadata": {},
   "source": [
    "(e) Viết compute_average() method để tính trung bình năm sinh của các teachers trong ward."
   ]
  },
  {
   "cell_type": "code",
   "execution_count": 27,
   "metadata": {},
   "outputs": [],
   "source": [
    "class Ward:\n",
    "    def __init__(self, name: str):\n",
    "        self._name = name\n",
    "        self._listPeople = list()\n",
    "\n",
    "    def addPerson(self, person: Person):\n",
    "        self._listPeople.append(person)\n",
    "\n",
    "    def describe(self):\n",
    "        print(f\"Ward Name: {self._name}\")\n",
    "        for p in self._listPeople:\n",
    "            print(p.describe())\n",
    "\n",
    "    def countDoctor(self):\n",
    "        return sum(isinstance(person, Doctor) for person in self._listPeople)\n",
    "\n",
    "    def sortAge(self):\n",
    "        self._listPeople.sort(key=lambda person: person.getYoB(), reverse=True)\n",
    "\n",
    "    def computeAverage(self):\n",
    "        teachers = [person for person in self._listPeople if isinstance(person, Teacher)]\n",
    "        if not teachers:\n",
    "            return 0\n",
    "        total_yob = sum(teacher.getYoB() for teacher in teachers)\n",
    "        return total_yob / len(teachers)\n"
   ]
  },
  {
   "cell_type": "code",
   "execution_count": 30,
   "metadata": {},
   "outputs": [
    {
     "name": "stdout",
     "output_type": "stream",
     "text": [
      "Ward Name: Ward1\n",
      "Student - Name: studentA - YoB: 2010 - Grade: 7\n",
      "Teacher - Name: teacherA - YoB: 1969 - Subject: Math\n",
      "Teacher - Name: teacherB - YoB: 1995 - Subject: History\n",
      "Doctor - Name: doctorB - YoB: 1975 - Specialist: Cardiologists\n",
      "Average year of birth of teachers: 1982.0\n"
     ]
    }
   ],
   "source": [
    "ward1 = Ward(name=\"Ward1\")\n",
    "ward1.addPerson(student1)\n",
    "ward1.addPerson(teacher1)\n",
    "ward1.addPerson(Teacher(name=\"teacherB\", yob=1995, subject=\"History\"))\n",
    "ward1.addPerson(Doctor(name=\"doctorB\", yob=1975, specialist=\"Cardiologists\"))\n",
    "\n",
    "ward1.describe()\n",
    "print(f\"Average year of birth of teachers: {ward1.computeAverage()}\")"
   ]
  }
 ],
 "metadata": {
  "kernelspec": {
   "display_name": "Python 3",
   "language": "python",
   "name": "python3"
  },
  "language_info": {
   "codemirror_mode": {
    "name": "ipython",
    "version": 3
   },
   "file_extension": ".py",
   "mimetype": "text/x-python",
   "name": "python",
   "nbconvert_exporter": "python",
   "pygments_lexer": "ipython3",
   "version": "3.11.2"
  }
 },
 "nbformat": 4,
 "nbformat_minor": 2
}
