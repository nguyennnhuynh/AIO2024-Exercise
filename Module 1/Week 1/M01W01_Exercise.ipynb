{
 "cells": [
  {
   "cell_type": "code",
   "execution_count": 23,
   "metadata": {},
   "outputs": [],
   "source": [
    "import math\n",
    "import random"
   ]
  },
  {
   "cell_type": "markdown",
   "metadata": {},
   "source": [
    "* ## **Exercise 1**\n",
    "### Viết function thực hiện đánh giá classification model bằng F1-Score."
   ]
  },
  {
   "cell_type": "code",
   "execution_count": 24,
   "metadata": {},
   "outputs": [],
   "source": [
    "def exercise1(tp, fp, fn):\n",
    "    #check if the type of of inputs are integers\n",
    "    if type(tp) is not int or type(fp) is not int or type(fn) is not int:\n",
    "        if type(tp) is not int:\n",
    "            print(\"tp must be int\")\n",
    "        if type(fp) is not int:\n",
    "            print(\"fp must be int\")\n",
    "        if type(fn) is not int:\n",
    "            print(\"fn must be int\")\n",
    "        return\n",
    "\n",
    "    #check if the value of inputs are greater than zero\n",
    "    if tp <= 0 or fp <= 0 or fn <= 0:\n",
    "        print(\"tp and fp and fn must be greater than zero\")\n",
    "        return\n",
    "\n",
    "    #calculate Precision, Recall, and F1-score\n",
    "    precision = tp / (tp + fp)\n",
    "    recall = tp / (tp + fn)\n",
    "    f1_score = 2 * (precision * recall) / (precision + recall)\n",
    "\n",
    "    #print the results\n",
    "    print(f\"precision is {precision}\")\n",
    "    print(f\"recall is {recall}\")\n",
    "    print(f\"f1-score is {f1_score}\")"
   ]
  },
  {
   "cell_type": "code",
   "execution_count": 25,
   "metadata": {},
   "outputs": [
    {
     "name": "stdout",
     "output_type": "stream",
     "text": [
      "precision is 0.4\n",
      "recall is 0.3333333333333333\n",
      "f1-score is 0.3636363636363636\n"
     ]
    }
   ],
   "source": [
    "exercise1(tp=2, fp=3, fn=4)"
   ]
  },
  {
   "cell_type": "code",
   "execution_count": 26,
   "metadata": {},
   "outputs": [
    {
     "name": "stdout",
     "output_type": "stream",
     "text": [
      "fp must be int\n"
     ]
    }
   ],
   "source": [
    "exercise1(tp=2, fp='a', fn=4)"
   ]
  },
  {
   "cell_type": "code",
   "execution_count": 27,
   "metadata": {},
   "outputs": [
    {
     "name": "stdout",
     "output_type": "stream",
     "text": [
      "fn must be int\n"
     ]
    }
   ],
   "source": [
    "exercise1(tp=2, fp=3, fn='a')"
   ]
  },
  {
   "cell_type": "code",
   "execution_count": 28,
   "metadata": {},
   "outputs": [
    {
     "name": "stdout",
     "output_type": "stream",
     "text": [
      "tp and fp and fn must be greater than zero\n"
     ]
    }
   ],
   "source": [
    "exercise1(tp=2, fp=3, fn=0)"
   ]
  },
  {
   "cell_type": "code",
   "execution_count": 29,
   "metadata": {},
   "outputs": [
    {
     "name": "stdout",
     "output_type": "stream",
     "text": [
      "tp must be int\n"
     ]
    }
   ],
   "source": [
    "exercise1(tp=2.1, fp=3, fn=0)"
   ]
  },
  {
   "cell_type": "markdown",
   "metadata": {},
   "source": [
    "* ## **Exercise 2**\n",
    "### Viết function mô phỏng theo 3 activation function."
   ]
  },
  {
   "cell_type": "markdown",
   "metadata": {},
   "source": [
    "Complete the given is_number():"
   ]
  },
  {
   "cell_type": "code",
   "execution_count": 30,
   "metadata": {},
   "outputs": [],
   "source": [
    "def is_number(n):\n",
    "    try:\n",
    "        float(n)\n",
    "    except ValueError:\n",
    "        return False\n",
    "    return True"
   ]
  },
  {
   "cell_type": "markdown",
   "metadata": {},
   "source": [
    "Exercise 2:"
   ]
  },
  {
   "cell_type": "code",
   "execution_count": 31,
   "metadata": {},
   "outputs": [],
   "source": [
    "def exercise2():\n",
    "    x = input(\"Input x = \")\n",
    "    #check if x is a valid number\n",
    "    if not is_number(x):\n",
    "        print(\"x must be a number\")\n",
    "        return\n",
    "    \n",
    "    #input and check if activation function name is valid \n",
    "    valid_functions = ['sigmoid', 'relu', 'elu']\n",
    "    act_name = input(\"Input activation Function (sigmoid|relu|elu): \")\n",
    "    if act_name not in valid_functions:\n",
    "        print(f\"{act_name} is not supported\")\n",
    "        return\n",
    "    \n",
    "    #convert x to float\n",
    "    x = float(x)\n",
    "\n",
    "    #define alpha\n",
    "    alpha = 0.01\n",
    "\n",
    "    #calculate the activation function based on act_name\n",
    "    if act_name == 'sigmoid':\n",
    "        result = 1 / (1 + math.e**(-x))\n",
    "    if act_name == 'relu':\n",
    "        if x <= 0:\n",
    "            result = 0\n",
    "        else:\n",
    "            result = x\n",
    "    if act_name == 'elu':\n",
    "        if x <= 0:\n",
    "            result = alpha * (math.e**x - 1)\n",
    "        else:\n",
    "            result = x\n",
    "    \n",
    "    #print the result \n",
    "    print(f\"{act_name}: f({x}) = {result}\")"
   ]
  },
  {
   "cell_type": "code",
   "execution_count": 32,
   "metadata": {},
   "outputs": [
    {
     "name": "stdout",
     "output_type": "stream",
     "text": [
      "sigmoid: f(1.5) = 0.8175744761936437\n"
     ]
    }
   ],
   "source": [
    "exercise2 ()"
   ]
  },
  {
   "cell_type": "code",
   "execution_count": 33,
   "metadata": {},
   "outputs": [
    {
     "name": "stdout",
     "output_type": "stream",
     "text": [
      "elu: f(17.0) = 17.0\n"
     ]
    }
   ],
   "source": [
    "exercise2 ()"
   ]
  },
  {
   "cell_type": "code",
   "execution_count": 34,
   "metadata": {},
   "outputs": [
    {
     "name": "stdout",
     "output_type": "stream",
     "text": [
      "relu: f(10.0) = 10.0\n"
     ]
    }
   ],
   "source": [
    "exercise2 ()"
   ]
  },
  {
   "cell_type": "code",
   "execution_count": 35,
   "metadata": {},
   "outputs": [
    {
     "name": "stdout",
     "output_type": "stream",
     "text": [
      "x must be a number\n"
     ]
    }
   ],
   "source": [
    "exercise2 ()"
   ]
  },
  {
   "cell_type": "code",
   "execution_count": 36,
   "metadata": {},
   "outputs": [
    {
     "name": "stdout",
     "output_type": "stream",
     "text": [
      "belu is not supported\n"
     ]
    }
   ],
   "source": [
    "exercise2 ()"
   ]
  },
  {
   "cell_type": "markdown",
   "metadata": {},
   "source": [
    "* ## **Exercise 3**\n",
    "### Viết function lựa chọn regression loss function để tính loss."
   ]
  },
  {
   "cell_type": "code",
   "execution_count": 37,
   "metadata": {},
   "outputs": [],
   "source": [
    "def exercise3():\n",
    "    #input number of samples and loss name\n",
    "    num_samples = input(\"Input number of samples (integer number) which are generated: \")\n",
    "    if not num_samples.isnumeric():\n",
    "        print(\"number of samples must be an integer number\")\n",
    "        return \n",
    "    loss_name = input(\"Input loss name: \") #assume that the user always inputs the correct loss names: MAE, MSE, RMSE\n",
    "\n",
    "    #convert num_samples to integer\n",
    "    num_samples = int(num_samples)\n",
    "\n",
    "    #generate target and predict values\n",
    "    samples = list(range(num_samples))\n",
    "    predict = [random.uniform(0, 10) for i in range(num_samples)]\n",
    "    target = [random.uniform(0, 10) for i in range(num_samples)]\n",
    "\n",
    "    #calculate the loss based on loss_name\n",
    "    final_loss = 0\n",
    "    for i in range(num_samples):\n",
    "        if loss_name == \"MAE\":\n",
    "            loss = abs(target[i] - predict[i])\n",
    "        elif loss_name == \"MSE\" or loss_name == \"RMSE\":\n",
    "            loss = (target[i] - predict[i])**2\n",
    "        final_loss += loss\n",
    "        print(f\"loss name: {loss_name}, sample: {i}, pred: {predict[i]}, target: {target[i]}, loss: {loss}\")\n",
    "\n",
    "    final_result = final_loss / num_samples\n",
    "    if loss_name == \"RMSE\":\n",
    "        final_result = math.sqrt(final_result)\n",
    "    print(f\"{loss_name}: {final_result}\")"
   ]
  },
  {
   "cell_type": "code",
   "execution_count": 38,
   "metadata": {},
   "outputs": [
    {
     "name": "stdout",
     "output_type": "stream",
     "text": [
      "loss name: RMSE, sample: 0, pred: 3.6391480281884236, target: 9.374251507986989, loss: 32.89141192399761\n",
      "loss name: RMSE, sample: 1, pred: 2.5095317927009377, target: 7.788457780366369, loss: 27.86705958324945\n",
      "loss name: RMSE, sample: 2, pred: 6.28322760315595, target: 2.953464200411, loss: 11.087324318259629\n",
      "loss name: RMSE, sample: 3, pred: 1.2758409568971163, target: 7.531659574787561, loss: 39.135266579944705\n",
      "loss name: RMSE, sample: 4, pred: 2.6120500747430597, target: 5.096514959725602, loss: 6.172565764711318\n",
      "RMSE: 4.840529478686452\n"
     ]
    }
   ],
   "source": [
    "exercise3()"
   ]
  },
  {
   "cell_type": "code",
   "execution_count": 39,
   "metadata": {},
   "outputs": [
    {
     "name": "stdout",
     "output_type": "stream",
     "text": [
      "number of samples must be an integer number\n"
     ]
    }
   ],
   "source": [
    "exercise3()"
   ]
  },
  {
   "cell_type": "markdown",
   "metadata": {},
   "source": [
    "* ## **Exercise 4**\n",
    "### Viết 4 functions: sin, cos, sinh, cosh"
   ]
  },
  {
   "cell_type": "code",
   "execution_count": 40,
   "metadata": {},
   "outputs": [],
   "source": [
    "def factorial(n):\n",
    "    if n == 0:\n",
    "        return 1\n",
    "    else:\n",
    "        return n * factorial(n-1)"
   ]
  },
  {
   "cell_type": "code",
   "execution_count": 41,
   "metadata": {},
   "outputs": [],
   "source": [
    "def calculate_sin(x, n):\n",
    "    sin_result = 0\n",
    "    for i in range(n):\n",
    "        sin_result += ((-1)**i) * (x**(2*i +1)) / factorial(2*i + 1)\n",
    "    return sin_result\n",
    "\n",
    "def calculate_cos(x, n):\n",
    "    cos_result = 0\n",
    "    for i in range(n):\n",
    "        cos_result += ((-1)**i) * (x**(2*i)) / factorial(2*i)\n",
    "    return cos_result\n",
    "\n",
    "def calculate_sinh(x, n):\n",
    "    sinh_result = 0\n",
    "    for i in range(n):\n",
    "        sinh_result +=  (x**(2*i + 1)) / factorial(2*i + 1)\n",
    "    return sinh_result\n",
    "\n",
    "def calculate_cosh(x, n):\n",
    "    cosh_result = 0\n",
    "    for i in range(n):\n",
    "        cosh_result +=  (x**(2*i)) / factorial(2*i)\n",
    "    return cosh_result"
   ]
  },
  {
   "cell_type": "code",
   "execution_count": 42,
   "metadata": {},
   "outputs": [
    {
     "name": "stdout",
     "output_type": "stream",
     "text": [
      "0.001592652393160744\n",
      "-0.9999987352210833\n",
      "11.530292029865986\n",
      "11.573574824666185\n"
     ]
    }
   ],
   "source": [
    "print(calculate_sin(x = 3.14, n = 10))\n",
    "print(calculate_cos(x = 3.14, n = 10))\n",
    "print(calculate_sinh(x = 3.14, n = 10))\n",
    "print(calculate_cosh(x = 3.14, n = 10))"
   ]
  },
  {
   "cell_type": "markdown",
   "metadata": {},
   "source": [
    "* ## **Exercise 5**\n",
    "### Viết function thực hiện Mean Difference of nth Root Error.\n"
   ]
  },
  {
   "cell_type": "code",
   "execution_count": 43,
   "metadata": {},
   "outputs": [],
   "source": [
    "def md_nre_single_sample(y, y_hat, n, p):\n",
    "    return (y**(1/n) - y_hat**(1/n))**p"
   ]
  },
  {
   "cell_type": "code",
   "execution_count": 44,
   "metadata": {},
   "outputs": [
    {
     "name": "stdout",
     "output_type": "stream",
     "text": [
      "0.025031328369998107\n",
      "0.03544417213033135\n",
      "0.05625552183565574\n",
      "0.45836890322464546\n"
     ]
    }
   ],
   "source": [
    "print(md_nre_single_sample(y=100, y_hat=99.5, n=2, p=1))  \n",
    "print(md_nre_single_sample(y=50, y_hat=49.5, n=2, p=1))   \n",
    "print(md_nre_single_sample(y=20, y_hat=19.5, n=2, p=1))   \n",
    "print(md_nre_single_sample(y=0.6, y_hat=0.1, n=2, p=1)) "
   ]
  }
 ],
 "metadata": {
  "kernelspec": {
   "display_name": "Python 3",
   "language": "python",
   "name": "python3"
  },
  "language_info": {
   "codemirror_mode": {
    "name": "ipython",
    "version": 3
   },
   "file_extension": ".py",
   "mimetype": "text/x-python",
   "name": "python",
   "nbconvert_exporter": "python",
   "pygments_lexer": "ipython3",
   "version": "3.11.2"
  }
 },
 "nbformat": 4,
 "nbformat_minor": 2
}
